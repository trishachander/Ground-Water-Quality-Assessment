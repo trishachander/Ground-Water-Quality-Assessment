{
 "cells": [
  {
   "cell_type": "code",
   "execution_count": 1,
   "metadata": {},
   "outputs": [
    {
     "ename": "ModuleNotFoundError",
     "evalue": "No module named 'pandas_datareader'",
     "output_type": "error",
     "traceback": [
      "\u001b[1;31m---------------------------------------------------------------------------\u001b[0m",
      "\u001b[1;31mModuleNotFoundError\u001b[0m                       Traceback (most recent call last)",
      "\u001b[1;32m<ipython-input-1-0ee021bda150>\u001b[0m in \u001b[0;36m<module>\u001b[1;34m\u001b[0m\n\u001b[0;32m      5\u001b[0m \u001b[1;32mimport\u001b[0m \u001b[0mdash_core_components\u001b[0m \u001b[1;32mas\u001b[0m \u001b[0mdcc\u001b[0m\u001b[1;33m\u001b[0m\u001b[1;33m\u001b[0m\u001b[0m\n\u001b[0;32m      6\u001b[0m \u001b[1;32mimport\u001b[0m \u001b[0mdash_html_components\u001b[0m \u001b[1;32mas\u001b[0m \u001b[0mhtml\u001b[0m\u001b[1;33m\u001b[0m\u001b[1;33m\u001b[0m\u001b[0m\n\u001b[1;32m----> 7\u001b[1;33m \u001b[1;32mimport\u001b[0m \u001b[0mpandas_datareader\u001b[0m\u001b[1;33m.\u001b[0m\u001b[0mdata\u001b[0m \u001b[1;32mas\u001b[0m \u001b[0mweb\u001b[0m\u001b[1;33m\u001b[0m\u001b[1;33m\u001b[0m\u001b[0m\n\u001b[0m\u001b[0;32m      8\u001b[0m \u001b[1;32mfrom\u001b[0m \u001b[0mdash\u001b[0m\u001b[1;33m.\u001b[0m\u001b[0mdependencies\u001b[0m \u001b[1;32mimport\u001b[0m \u001b[0mInput\u001b[0m\u001b[1;33m,\u001b[0m \u001b[0mOutput\u001b[0m\u001b[1;33m\u001b[0m\u001b[1;33m\u001b[0m\u001b[0m\n",
      "\u001b[1;31mModuleNotFoundError\u001b[0m: No module named 'pandas_datareader'"
     ]
    }
   ],
   "source": [
    "import pandas as pd\n",
    "import numpy as np\n",
    "import matplotlib.pyplot as plt\n",
    "import dash\n",
    "import dash_core_components as dcc\n",
    "import dash_html_components as html\n",
    "import pandas_datareader.data as web\n",
    "from dash.dependencies import Input, Output"
   ]
  },
  {
   "cell_type": "code",
   "execution_count": null,
   "metadata": {},
   "outputs": [],
   "source": [
    "waste = ['Ca','F','HCO3','K','Mg','NO3','Na','SO4','TOTAL HARDNESS','TOTAL_ALKALINITY','CO3']\n",
    "need = ['Cl','Electrical Conductivity','SAR','pH','Residual Sodium Carbonate']"
   ]
  },
  {
   "cell_type": "code",
   "execution_count": null,
   "metadata": {},
   "outputs": [],
   "source": [
    "ap = pd.read_excel(\n",
    "    io = '../Data/AndhraPradesh.xls',\n",
    "    skiprows = 1,\n",
    "    index_col = [0,1,2,3]\n",
    ")\n",
    "ap = ap.replace('-', np.nan)\n",
    "ap = ap.dropna(how = 'all')\n",
    "\n",
    "goa = pd.read_excel(\n",
    "    io = '../Data/Goa.xls',\n",
    "    skiprows = 1,\n",
    "    index_col = [0,1,2,3]\n",
    ")\n",
    "goa = goa.replace('-', np.nan)\n",
    "goa = goa.dropna(how = 'all')\n",
    "\n",
    "ka = pd.read_excel(\n",
    "    io = '../Data/Karnataka.xls',\n",
    "    skiprows = 1,\n",
    "    index_col = [0,1,2,3]\n",
    ")\n",
    "ka = ka.replace('-', np.nan)\n",
    "ka = ka.dropna(how = 'all')\n",
    "\n",
    "kl = pd.read_excel(\n",
    "    io = '../Data/Kerala.xls',\n",
    "    skiprows = 1,\n",
    "    index_col = [0,1,2,3]\n",
    ")\n",
    "kl = kl.replace('-', np.nan)\n",
    "kl = kl.dropna(how = 'all')\n",
    "\n",
    "tn = pd.read_excel(\n",
    "    io = '../Data/TamilNadu.xls',\n",
    "    skiprows = 1,\n",
    "    index_col = [0,1,2,3]\n",
    ")\n",
    "tn = tn.replace('-', np.nan)\n",
    "tn = tn.dropna(how = 'all')\n",
    "\n",
    "tl = pd.read_excel(\n",
    "    io = '../Data/Telangana.xls',\n",
    "    skiprows = 1,\n",
    "    index_col = [0,1,2,3]\n",
    ")\n",
    "tl = tl.replace('-', np.nan)\n",
    "tl = tl.dropna(how = 'all')\n",
    "ap"
   ]
  },
  {
   "cell_type": "code",
   "execution_count": null,
   "metadata": {},
   "outputs": [],
   "source": [
    "for i in range(0,len(waste)):\n",
    "    ap.drop(waste[i],level='Parameters',inplace=True)\n",
    "    goa.drop(waste[i],level='Parameters',inplace=True)\n",
    "    kl.drop(waste[i],level='Parameters',inplace=True)\n",
    "    ka.drop(waste[i],level='Parameters',inplace=True)\n",
    "    tn.drop(waste[i],level='Parameters',inplace=True)\n",
    "    tl.drop(waste[i],level='Parameters',inplace=True)\n"
   ]
  },
  {
   "cell_type": "code",
   "execution_count": null,
   "metadata": {},
   "outputs": [],
   "source": [
    "final_df = pd.DataFrame()\n",
    "\n",
    "final_df = final_df.append([ap,goa,ka,tl,kl,tn])\n",
    "# pd.set_option('display.max_rows', None)\n",
    "# final_df"
   ]
  },
  {
   "cell_type": "code",
   "execution_count": null,
   "metadata": {},
   "outputs": [],
   "source": [
    "final_df.head()"
   ]
  },
  {
   "cell_type": "code",
   "execution_count": null,
   "metadata": {},
   "outputs": [],
   "source": [
    "final_df.loc['GOA'].loc['NORTH GOA'].loc['Sal']"
   ]
  },
  {
   "cell_type": "code",
   "execution_count": null,
   "metadata": {},
   "outputs": [],
   "source": [
    "final_df.loc['GOA'].loc['NORTH GOA'].loc['Sal'].loc['Electrical Conductivity']\n"
   ]
  },
  {
   "cell_type": "code",
   "execution_count": null,
   "metadata": {},
   "outputs": [],
   "source": [
    "g = final_df.loc['GOA'].loc['NORTH GOA'].loc['Sal'].loc['Electrical Conductivity']\n",
    "g.plot()"
   ]
  },
  {
   "cell_type": "code",
   "execution_count": null,
   "metadata": {},
   "outputs": [],
   "source": [
    "ref = {'2006':[157.4,1154.2,4.80,2.162,6.348],\n",
    "       '2007':[157.4,1154.2,4.80,2.162,6.348],\n",
    "       '2008':[157.4,1154.2,4.80,2.162,6.348],\n",
    "       '2009':[157.4,1154.2,4.80,2.162,6.348],\n",
    "       '2010':[157.4,1154.2,4.80,2.162,6.348]\n",
    "      }\n",
    "reference_df = pd.DataFrame(ref,index=need)\n",
    "reference_df"
   ]
  },
  {
   "cell_type": "code",
   "execution_count": null,
   "metadata": {},
   "outputs": [],
   "source": [
    "y1 = final_df.loc['GOA'].loc['NORTH GOA'].loc['Sal'].loc['Electrical Conductivity'].tolist()\n",
    "print(y1)\n",
    "x = [2006,2007,2008,2009,2010]\n",
    "x\n",
    "plt.plot(x,y1,label=\"First\")\n",
    "plt.plot(x,[400,400,400,400,400],label=\"second\")\n",
    "plt.show()"
   ]
  },
  {
   "cell_type": "code",
   "execution_count": null,
   "metadata": {
    "scrolled": false
   },
   "outputs": [],
   "source": [
    "cdd=dash.Dash()\n",
    "cdd.layout = html.Div(children=[\n",
    "    html.Div(children='''\n",
    "        State,District,Station,Parameters(Case sensitive):\n",
    "    '''),\n",
    "    dcc.Input(id='input', value='', type='text'),\n",
    "    html.Div(id='output-graph'),\n",
    "    \n",
    "])\n",
    "\n",
    "@cdd.callback(\n",
    "    Output(component_id='output-graph', component_property='children'),\n",
    "   \n",
    "    [Input(component_id='input', component_property='value')]\n",
    ")\n",
    "def update_value(input_dat):\n",
    "    \n",
    "    \n",
    "    \n",
    "   \n",
    "    x = input_dat.split(',')\n",
    "    if(x[3]==\"Cl\"):\n",
    "        z=[50,50,50,50,50]\n",
    "    elif(x[3]==\"Electrical Conductivity\"): \n",
    "        z=[500,500,500,500,500]\n",
    "    elif(x[3]==\"SAR\"):\n",
    "        z=[9,9,9,9,9]\n",
    "    elif(x[3]==\"pH\"):\n",
    "        z=[8.4,8.4,8.4,8.4,8.4]\n",
    "    elif(x[3]==\"Residual Sodium Carbonate\"):    \n",
    "        z=[8,8,8,8,8]\n",
    "        \n",
    "        \n",
    "    \n",
    "\n",
    "    return dcc.Graph(\n",
    "        id='example-graph',\n",
    "         figure={\n",
    "                'data':[\n",
    "                {'x':[2006,2007,2008,2009,2010],'y':final_df.loc[x[0]].loc[x[1]].loc[x[2]].loc[x[3]].tolist(),'type':'line','name':x[3]},\n",
    "                {'x':[2006,2007,2008,2009,2010],'y':z,'type':'line','name':'Hazardous Level'}\n",
    "            ],\n",
    "            'layout':{\n",
    "                'title':'Graph'\n",
    "            }\n",
    "        }\n",
    "        \n",
    "         \n",
    "    )\n",
    "\n",
    "\n",
    "if __name__ == '__main__':\n",
    "    cdd.run_server(port=49152)"
   ]
  }
 ],
 "metadata": {
  "kernelspec": {
   "display_name": "Python 3",
   "language": "python",
   "name": "python3"
  },
  "language_info": {
   "codemirror_mode": {
    "name": "ipython",
    "version": 3
   },
   "file_extension": ".py",
   "mimetype": "text/x-python",
   "name": "python",
   "nbconvert_exporter": "python",
   "pygments_lexer": "ipython3",
   "version": "3.7.6"
  }
 },
 "nbformat": 4,
 "nbformat_minor": 4
}
